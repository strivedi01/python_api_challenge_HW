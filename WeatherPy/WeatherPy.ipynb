{
 "cells": [
  {
   "cell_type": "markdown",
   "metadata": {},
   "source": [
    "# WeatherPy\n",
    "----\n",
    "\n",
    "#### Note\n",
    "* Instructions have been included for each segment. You do not have to follow them exactly, but they are included to help you think through the steps."
   ]
  },
  {
   "cell_type": "code",
   "execution_count": 52,
   "metadata": {
    "scrolled": true
   },
   "outputs": [],
   "source": [
    "# Dependencies\n",
    "\n",
    "import gmaps\n",
    "import numpy as np\n",
    "import pandas as pd\n",
    "import requests\n",
    "import json\n",
    "from scipy.stats import linregress\n",
    "from scipy import stats\n",
    "from matplotlib import pyplot as plt\n",
    "# Google developer API key\n",
    "#from config import g_key\n",
    "# Access maps with unique API key\n",
    "#gmaps.configure(api_key=g_key)\n",
    "# weather API key\n",
    "from api_keys import weather_api_key"
   ]
  },
  {
   "cell_type": "markdown",
   "metadata": {},
   "source": [
    "## Generate Cities List"
   ]
  },
  {
   "cell_type": "raw",
   "metadata": {},
   "source": [
    "# Dependencies and Setup\n",
    "import matplotlib.pyplot as plt\n",
    "import pandas as pd\n",
    "import numpy as np\n",
    "import requests\n",
    "import time\n",
    "import json"
   ]
  },
  {
   "cell_type": "code",
   "execution_count": 8,
   "metadata": {},
   "outputs": [],
   "source": [
    "# Import API Key\n",
    "#from config import weather_api_key\n",
    "\n",
    "# Incorporated Citipy to Determine City Based on Latitude & Longitude\n",
    "from citipy import citipy\n",
    "\n",
    "# Range of Latitudes & Longitudes\n",
    "lat_range = (-90, 90)\n",
    "lng_range = (-180, 180)"
   ]
  },
  {
   "cell_type": "raw",
   "metadata": {},
   "source": [
    "Generate Cities List"
   ]
  },
  {
   "cell_type": "code",
   "execution_count": 9,
   "metadata": {},
   "outputs": [
    {
     "data": {
      "text/plain": [
       "588"
      ]
     },
     "execution_count": 9,
     "metadata": {},
     "output_type": "execute_result"
    }
   ],
   "source": [
    "lat_lngs = []\n",
    "cities = []\n",
    "\n",
    "# Create a Set of Random lat & lng Combinations\n",
    "lats = np.random.uniform(low=-90.000, high=90.000, size=1500)\n",
    "lngs = np.random.uniform(low=-180.000, high=180.000, size=1500)\n",
    "lat_lngs = zip(lats, lngs)\n",
    "\n",
    "# Identify Nearest City for Each lat, lng Combination\n",
    "for lat_lng in lat_lngs:\n",
    "    city = citipy.nearest_city(lat_lng[0], lat_lng[1]).city_name\n",
    "    \n",
    "    # If the City is Unique, Then Add it to a Cities List\n",
    "    if city not in cities:\n",
    "        cities.append(city)\n",
    "\n",
    "# Print the City Count to Confirm Sufficient Count\n",
    "len(cities)"
   ]
  },
  {
   "cell_type": "markdown",
   "metadata": {},
   "source": [
    "Perform API Calls"
   ]
  },
  {
   "cell_type": "markdown",
   "metadata": {},
   "source": [
    "### Perform API Calls\n",
    "* Perform a weather check on each city using a series of successive API calls.\n",
    "* Include a print log of each city as it'sbeing processed (with the city number and city name).\n"
   ]
  },
  {
   "cell_type": "code",
   "execution_count": 10,
   "metadata": {},
   "outputs": [
    {
     "name": "stdout",
     "output_type": "stream",
     "text": [
      "{\n",
      "    \"coord\": {\n",
      "        \"lon\": -45.24,\n",
      "        \"lat\": 60.14\n",
      "    },\n",
      "    \"weather\": [\n",
      "        {\n",
      "            \"id\": 800,\n",
      "            \"main\": \"Clear\",\n",
      "            \"description\": \"clear sky\",\n",
      "            \"icon\": \"01d\"\n",
      "        }\n",
      "    ],\n",
      "    \"base\": \"stations\",\n",
      "    \"main\": {\n",
      "        \"temp\": 3.93,\n",
      "        \"feels_like\": -0.57,\n",
      "        \"temp_min\": 3.93,\n",
      "        \"temp_max\": 3.93,\n",
      "        \"pressure\": 1014,\n",
      "        \"humidity\": 70,\n",
      "        \"sea_level\": 1014,\n",
      "        \"grnd_level\": 1014\n",
      "    },\n",
      "    \"visibility\": 10000,\n",
      "    \"wind\": {\n",
      "        \"speed\": 3.38,\n",
      "        \"deg\": 315\n",
      "    },\n",
      "    \"clouds\": {\n",
      "        \"all\": 0\n",
      "    },\n",
      "    \"dt\": 1600028857,\n",
      "    \"sys\": {\n",
      "        \"country\": \"GL\",\n",
      "        \"sunrise\": 1599985510,\n",
      "        \"sunset\": 1600032514\n",
      "    },\n",
      "    \"timezone\": -7200,\n",
      "    \"id\": 3421765,\n",
      "    \"name\": \"Nanortalik\",\n",
      "    \"cod\": 200\n",
      "}\n"
     ]
    }
   ],
   "source": [
    "# Get Weather Data\n",
    "url = \"http://api.openweathermap.org/data/2.5/weather?\"\n",
    "units = \"metric\"\n",
    "query_url = f\"{url}appid={weather_api_key}&units={units}&q=\"\n",
    "\n",
    "weather_response = requests.get(query_url + city)\n",
    "weather_json = weather_response.json()\n",
    "print(json.dumps(weather_json, indent=4))"
   ]
  },
  {
   "cell_type": "code",
   "execution_count": 11,
   "metadata": {},
   "outputs": [
    {
     "name": "stdout",
     "output_type": "stream",
     "text": [
      "<Response [200]>\n"
     ]
    }
   ],
   "source": [
    "print(requests.get(query_url + city))"
   ]
  },
  {
   "cell_type": "code",
   "execution_count": 12,
   "metadata": {},
   "outputs": [
    {
     "name": "stdout",
     "output_type": "stream",
     "text": [
      "Beginning Data Retrieval\n",
      "-------------------------------\n",
      "Processing Record 1 | Ţahţā\n",
      "Processing Record 2 | Albany\n",
      "Processing Record 3 | Hobart\n",
      "Processing Record 4 | Rikitea\n",
      "Processing Record 5 | Busselton\n",
      "Processing Record 6 | Mataura\n",
      "Processing Record 7 | Port Alfred\n",
      "Processing Record 8 | Asău\n",
      "Processing Record 9 | Boddam\n",
      "Processing Record 10 | Lithakia\n",
      "Processing Record 11 | Kieta\n",
      "Processing Record 12 | Hermanus\n",
      "Processing Record 13 | Bethel\n",
      "City not found. Skipping...\n",
      "City not found. Skipping...\n",
      "Processing Record 14 | Fortuna\n",
      "Processing Record 15 | Papara\n",
      "Processing Record 16 | Nyuksenitsa\n",
      "Processing Record 17 | Boa Vista\n",
      "Processing Record 18 | Hithadhoo\n",
      "City not found. Skipping...\n",
      "Processing Record 19 | Srednekolymsk\n",
      "Processing Record 20 | Punta Arenas\n",
      "Processing Record 21 | Yozgat Province\n",
      "Processing Record 22 | Plettenberg Bay\n",
      "City not found. Skipping...\n",
      "Processing Record 23 | Tateyama\n",
      "Processing Record 24 | Vestmanna\n",
      "Processing Record 25 | Moranbah\n",
      "Processing Record 26 | Provideniya\n",
      "Processing Record 27 | Boone\n",
      "Processing Record 28 | Lagos\n",
      "City not found. Skipping...\n",
      "Processing Record 29 | Ushuaia\n",
      "Processing Record 30 | Yumen\n",
      "Processing Record 31 | Sitka\n",
      "Processing Record 32 | Puerto Ayora\n",
      "Processing Record 33 | Altay\n",
      "Processing Record 34 | Sibolga\n",
      "Processing Record 35 | Qaanaaq\n",
      "Processing Record 36 | Rawson\n",
      "Processing Record 37 | Lüshunkou\n",
      "City not found. Skipping...\n",
      "Processing Record 38 | Mar del Plata\n",
      "Processing Record 39 | Cap Malheureux\n",
      "Processing Record 40 | Tasiilaq\n",
      "Processing Record 41 | Sinnamary\n",
      "City not found. Skipping...\n",
      "Processing Record 42 | Sinazongwe\n",
      "Processing Record 43 | Tuktoyaktuk\n",
      "Processing Record 44 | Itarema\n",
      "Processing Record 45 | Coquimbo\n",
      "Processing Record 46 | Mana\n",
      "Processing Record 47 | Portland\n",
      "Processing Record 48 | Upernavik\n",
      "Processing Record 49 | Senador Guiomard\n",
      "Processing Record 50 | Chokurdakh\n",
      "Processing Record 51 | Flagstaff\n",
      "Processing Record 52 | Luorong\n",
      "Processing Record 53 | Faanui\n",
      "Processing Record 54 | Saint Paul Harbor\n",
      "Processing Record 55 | Cherskiy\n",
      "Processing Record 56 | Cape Town\n",
      "Processing Record 57 | Dungarvan\n",
      "City not found. Skipping...\n",
      "City not found. Skipping...\n",
      "Processing Record 58 | Iqaluit\n",
      "Processing Record 59 | Matagami\n",
      "Processing Record 60 | Butaritari\n",
      "City not found. Skipping...\n",
      "Processing Record 61 | Bluff\n",
      "Processing Record 62 | Trelleborg\n",
      "Processing Record 63 | San Jose\n",
      "Processing Record 64 | Westport\n",
      "Processing Record 65 | Kavieng\n",
      "Processing Record 66 | Belmonte\n",
      "Processing Record 67 | El Dorado\n",
      "Processing Record 68 | Saskylakh\n",
      "Processing Record 69 | Atar\n",
      "Processing Record 70 | Cabo San Lucas\n",
      "Processing Record 71 | Port Elizabeth\n",
      "Processing Record 72 | Lompoc\n",
      "Processing Record 73 | Khabez\n",
      "Processing Record 74 | Clyde River\n",
      "Processing Record 75 | Bengkulu\n",
      "Processing Record 76 | New Norfolk\n",
      "Processing Record 77 | Lavrentiya\n",
      "Processing Record 78 | College\n",
      "Processing Record 79 | Dillon\n",
      "Processing Record 80 | Bluefields\n",
      "Processing Record 81 | Salaga\n",
      "Processing Record 82 | Oranjemund\n",
      "Processing Record 83 | Brewster\n",
      "Processing Record 84 | Zabaykal'sk\n",
      "City not found. Skipping...\n",
      "Processing Record 85 | Tiksi\n",
      "Processing Record 86 | Yellowknife\n",
      "Processing Record 87 | Ciudad Bolivar\n",
      "Processing Record 88 | Ous\n",
      "Processing Record 89 | Norman Wells\n",
      "Processing Record 90 | Tuatapere\n",
      "Processing Record 91 | Dingle\n",
      "Processing Record 92 | Carnarvon\n",
      "Processing Record 93 | Taoudenni\n",
      "Processing Record 94 | Vestmannaeyjar\n",
      "Processing Record 95 | Hong Kong\n",
      "Processing Record 96 | Hendek\n",
      "Processing Record 97 | Sumenep\n",
      "Processing Record 98 | Indramayu\n",
      "Processing Record 99 | Longyearbyen\n",
      "Processing Record 100 | Hilo\n",
      "Processing Record 101 | Egvekinot\n",
      "Processing Record 102 | Kaitangata\n",
      "Processing Record 103 | Jamestown\n",
      "Processing Record 104 | Half Moon Bay\n",
      "Processing Record 105 | Kajaani\n",
      "Processing Record 106 | Dīr\n",
      "Processing Record 107 | Zwedru\n",
      "Processing Record 108 | Acapulco de Juárez\n",
      "Processing Record 109 | Nanortalik\n",
      "Processing Record 110 | Severo-Kuril'sk\n",
      "Processing Record 111 | Mt. Pleasant\n",
      "Processing Record 112 | Arrondissement de Saint-Denis\n",
      "City not found. Skipping...\n",
      "Processing Record 113 | Saldanha\n",
      "Processing Record 114 | Leningradskiy\n",
      "Processing Record 115 | Bordighera\n",
      "Processing Record 116 | Pictou\n",
      "Processing Record 117 | Nioki\n",
      "Processing Record 118 | Māngrol\n",
      "Processing Record 119 | Castro\n",
      "Processing Record 120 | Vaini\n",
      "Processing Record 121 | Kapaa\n",
      "Processing Record 122 | Isangel\n",
      "Processing Record 123 | Flinders\n",
      "Processing Record 124 | Belaya Kholunitsa\n",
      "City not found. Skipping...\n",
      "Processing Record 125 | Lorengau\n",
      "Processing Record 126 | Conceição do Mato Dentro\n",
      "Processing Record 127 | Rocha\n",
      "Processing Record 128 | Amapá\n",
      "Processing Record 129 | Avarua\n",
      "Processing Record 130 | Thompson\n",
      "City not found. Skipping...\n",
      "Processing Record 131 | Paamiut\n",
      "Processing Record 132 | Mount Isa\n",
      "Processing Record 133 | Curuçá\n",
      "City not found. Skipping...\n",
      "Processing Record 134 | Atuona\n",
      "Processing Record 135 | Saint Lawrence\n",
      "Processing Record 136 | Guerrero Negro\n",
      "Processing Record 137 | Kismayo\n",
      "Processing Record 138 | Mabay\n",
      "Processing Record 139 | Yulara\n",
      "Processing Record 140 | Chui\n",
      "Processing Record 141 | Bredasdorp\n",
      "Processing Record 142 | Semey\n",
      "Processing Record 143 | Safi\n",
      "Processing Record 144 | Esperance\n",
      "Processing Record 145 | Shar\n",
      "Processing Record 146 | Isla Vista\n",
      "Processing Record 147 | Bathsheba\n",
      "Processing Record 148 | Aykhal\n",
      "Processing Record 149 | La Romana\n",
      "Processing Record 150 | Tilichiki\n",
      "Processing Record 151 | Bugiri\n",
      "Processing Record 152 | Mahébourg\n",
      "Processing Record 153 | Fort Nelson\n",
      "Processing Record 154 | Ancud\n",
      "Processing Record 155 | George Town\n",
      "Processing Record 156 | Labuhan\n",
      "Processing Record 157 | Irosin\n",
      "Processing Record 158 | Muravlenko\n",
      "Processing Record 159 | Vila Franca do Campo\n",
      "Processing Record 160 | Zheleznodorozhnyy\n",
      "Processing Record 161 | Ormara\n",
      "Processing Record 162 | Yanam\n",
      "Processing Record 163 | Lagoa\n",
      "Processing Record 164 | Vao\n",
      "Processing Record 165 | Kysyl-Syr\n",
      "Processing Record 166 | Bequimão\n",
      "Processing Record 167 | Kahului\n",
      "Processing Record 168 | Masallātah\n",
      "Processing Record 169 | Dunedin\n",
      "Processing Record 170 | Vysokogornyy\n",
      "Processing Record 171 | Ponta do Sol\n",
      "Processing Record 172 | Khatanga\n",
      "Processing Record 173 | Dudinka\n",
      "Processing Record 174 | Ardakān\n",
      "Processing Record 175 | Batagay-Alyta\n",
      "Processing Record 176 | Nome\n",
      "Processing Record 177 | Enshi\n",
      "Processing Record 178 | Yelets\n",
      "City not found. Skipping...\n",
      "Processing Record 179 | Kirakira\n",
      "Processing Record 180 | Concarneau\n",
      "Processing Record 181 | Vardø\n",
      "City not found. Skipping...\n",
      "Processing Record 182 | São Filipe\n",
      "Processing Record 183 | Harper\n",
      "Processing Record 184 | Dikson\n",
      "Processing Record 185 | Nikolskoye\n",
      "Processing Record 186 | Fukuechō\n",
      "Processing Record 187 | Bilma\n",
      "Processing Record 188 | Tarakan\n",
      "Processing Record 189 | Balkhash\n",
      "Processing Record 190 | Bambous Virieux\n",
      "Processing Record 191 | La Rioja\n",
      "Processing Record 192 | East London\n",
      "City not found. Skipping...\n",
      "Processing Record 193 | Tulagi\n",
      "Processing Record 194 | Viedma\n",
      "Processing Record 195 | Imeni Poliny Osipenko\n",
      "Processing Record 196 | Oussouye\n",
      "Processing Record 197 | Saint-Philippe\n",
      "Processing Record 198 | Kota Belud\n",
      "Processing Record 199 | Swift Current\n",
      "Processing Record 200 | Jinhua\n",
      "City not found. Skipping...\n",
      "City not found. Skipping...\n",
      "Processing Record 201 | Barguzin\n",
      "Processing Record 202 | Abonnema\n",
      "Processing Record 203 | Mehamn\n",
      "Processing Record 204 | Kavaratti\n",
      "Processing Record 205 | Ust-Nera\n",
      "Processing Record 206 | Fernley\n",
      "Processing Record 207 | Blythe\n",
      "Processing Record 208 | Prince Rupert\n",
      "Processing Record 209 | Monroe\n",
      "Processing Record 210 | San Vicente\n",
      "Processing Record 211 | Popondetta\n",
      "Processing Record 212 | Salamiyah\n",
      "Processing Record 213 | Bonthe\n",
      "Processing Record 214 | Alofi\n",
      "Processing Record 215 | Carutapera\n",
      "Processing Record 216 | Puerto Carreño\n",
      "Processing Record 217 | Airai\n",
      "Processing Record 218 | Arraial do Cabo\n",
      "Processing Record 219 | El Salvador\n",
      "Processing Record 220 | Polis\n",
      "Processing Record 221 | Coahuayana Viejo\n",
      "Processing Record 222 | Cervo\n",
      "Processing Record 223 | Anta\n",
      "Processing Record 224 | Iporá\n",
      "Processing Record 225 | Tazovsky\n",
      "Processing Record 226 | Nouadhibou\n",
      "Processing Record 227 | Saiki\n",
      "Processing Record 228 | Alice Springs\n",
      "Processing Record 229 | Rexburg\n"
     ]
    },
    {
     "name": "stdout",
     "output_type": "stream",
     "text": [
      "Processing Record 230 | Siderno\n",
      "Processing Record 231 | Pandan\n",
      "Processing Record 232 | Say\n",
      "Processing Record 233 | Shingū\n",
      "City not found. Skipping...\n",
      "Processing Record 234 | Palauig\n",
      "Processing Record 235 | Mildura\n",
      "Processing Record 236 | Geraldton\n",
      "Processing Record 237 | Lewistown\n",
      "Processing Record 238 | Sabha\n",
      "Processing Record 239 | Bonavista\n",
      "Processing Record 240 | Price\n",
      "Processing Record 241 | Alta Floresta\n",
      "Processing Record 242 | Emba\n",
      "Processing Record 243 | Parrita\n",
      "Processing Record 244 | Gamboula\n",
      "Processing Record 245 | Barrow\n",
      "Processing Record 246 | Douentza\n",
      "Processing Record 247 | Hualmay\n",
      "Processing Record 248 | Aklavik\n",
      "Processing Record 249 | Ambikāpur\n",
      "Processing Record 250 | Quatre Cocos\n",
      "Processing Record 251 | Porangatu\n",
      "Processing Record 252 | Salalah\n",
      "Processing Record 253 | Fowa\n",
      "Processing Record 254 | Dongsheng\n",
      "Processing Record 255 | College Place\n",
      "Processing Record 256 | Porto Santo\n",
      "Processing Record 257 | Saint-Joseph\n",
      "Processing Record 258 | Tosya\n",
      "Processing Record 259 | Saskatoon\n",
      "Processing Record 260 | Camaquã\n",
      "Processing Record 261 | Cortez\n",
      "Processing Record 262 | Coyhaique\n",
      "Processing Record 263 | Jiangyou\n",
      "City not found. Skipping...\n",
      "Processing Record 264 | Mont-Dore\n",
      "Processing Record 265 | Haines Junction\n",
      "Processing Record 266 | Taltal\n",
      "Processing Record 267 | Gamba\n",
      "Processing Record 268 | Gizo Government Station\n",
      "Processing Record 269 | Sydney Mines\n",
      "Processing Record 270 | Avera\n",
      "Processing Record 271 | Haapiti\n",
      "Processing Record 272 | Otavi\n",
      "Processing Record 273 | Rincon\n",
      "Processing Record 274 | Makakilo City\n",
      "Processing Record 275 | Spirit River\n",
      "Processing Record 276 | Kango\n",
      "Processing Record 277 | Bariloche\n",
      "Processing Record 278 | Ribeira Grande\n",
      "Processing Record 279 | Fare\n",
      "Processing Record 280 | Klaksvík\n",
      "Processing Record 281 | Nizwá\n",
      "Processing Record 282 | Tortolì\n",
      "Processing Record 283 | Lata\n",
      "Processing Record 284 | Great Yarmouth\n",
      "City not found. Skipping...\n",
      "City not found. Skipping...\n",
      "Processing Record 285 | Çine\n",
      "Processing Record 286 | Gigmoto\n",
      "Processing Record 287 | Djougou\n",
      "Processing Record 288 | Ahipara\n",
      "Processing Record 289 | Uvira\n",
      "Processing Record 290 | Yaan\n",
      "Processing Record 291 | Biak\n",
      "Processing Record 292 | Pevek\n",
      "Processing Record 293 | Omboué\n",
      "Processing Record 294 | Nelson Bay\n",
      "Processing Record 295 | Sikonge\n",
      "Processing Record 296 | Koungou\n",
      "Processing Record 297 | Visby\n",
      "Processing Record 298 | Yibin\n",
      "Processing Record 299 | Varna\n",
      "Processing Record 300 | Kimberley\n",
      "Processing Record 301 | Caraz\n",
      "Processing Record 302 | Praia\n",
      "Processing Record 303 | Turan\n",
      "Processing Record 304 | Esmeraldas\n",
      "Processing Record 305 | Cururupu\n",
      "Processing Record 306 | Cidreira\n",
      "Processing Record 307 | Talnakh\n",
      "Processing Record 308 | Torbay\n",
      "Processing Record 309 | Padang\n",
      "City not found. Skipping...\n",
      "City not found. Skipping...\n",
      "Processing Record 310 | Gemena\n",
      "Processing Record 311 | Hamilton\n",
      "Processing Record 312 | Samarai\n",
      "Processing Record 313 | Ust-Tsilma\n",
      "Processing Record 314 | Saint Anthony\n",
      "Processing Record 315 | Mthatha\n",
      "Processing Record 316 | Tevaitoa\n",
      "Processing Record 317 | Lüderitz\n",
      "Processing Record 318 | Beyneu\n",
      "Processing Record 319 | Ippy\n",
      "Processing Record 320 | Hasaki\n",
      "Processing Record 321 | Brønnøysund\n",
      "Processing Record 322 | Pochutla\n",
      "Processing Record 323 | Zverinogolovskoye\n",
      "Processing Record 324 | Domoni\n",
      "Processing Record 325 | Lac du Bonnet\n",
      "Processing Record 326 | Ostrovnoy\n",
      "Processing Record 327 | Pacific Grove\n",
      "Processing Record 328 | Seoul\n",
      "Processing Record 329 | Nuevitas\n",
      "Processing Record 330 | General Roca\n",
      "Processing Record 331 | Holbrook\n",
      "Processing Record 332 | Raahe\n",
      "Processing Record 333 | Swellendam\n",
      "Processing Record 334 | Carolina\n",
      "Processing Record 335 | Vredendal\n",
      "Processing Record 336 | Belaya Gora\n",
      "Processing Record 337 | Nagato\n",
      "Processing Record 338 | Marawi\n",
      "Processing Record 339 | Kiryat Gat\n",
      "Processing Record 340 | Sterling\n",
      "Processing Record 341 | Jambi City\n",
      "Processing Record 342 | Ovsyanka\n",
      "Processing Record 343 | Laguna\n",
      "Processing Record 344 | Kamina\n",
      "Processing Record 345 | Mocajuba\n",
      "Processing Record 346 | Tambopata\n",
      "Processing Record 347 | Stranda\n",
      "Processing Record 348 | Ile-Ife\n",
      "Processing Record 349 | Pangani\n",
      "City not found. Skipping...\n",
      "Processing Record 350 | Teodoro Sampaio\n",
      "Processing Record 351 | Bacolod City\n",
      "Processing Record 352 | Bolivar\n",
      "City not found. Skipping...\n",
      "Processing Record 353 | Sioux Lookout\n",
      "Processing Record 354 | Spring Valley\n",
      "Processing Record 355 | Yeniseysk\n",
      "Processing Record 356 | Esim\n",
      "Processing Record 357 | Sabang\n",
      "Processing Record 358 | Piotrków Trybunalski\n",
      "Processing Record 359 | Sisimiut\n",
      "Processing Record 360 | Bako\n",
      "Processing Record 361 | Qaqortoq\n",
      "Processing Record 362 | Montepuez\n",
      "Processing Record 363 | San Alejo\n",
      "Processing Record 364 | Kuching\n",
      "Processing Record 365 | Smithers\n",
      "City not found. Skipping...\n",
      "Processing Record 366 | Teeli\n",
      "Processing Record 367 | Springbok\n",
      "Processing Record 368 | Cabedelo\n",
      "Processing Record 369 | Chālūs\n",
      "City not found. Skipping...\n",
      "Processing Record 370 | Thinadhoo\n",
      "Processing Record 371 | Kruisfontein\n",
      "City not found. Skipping...\n",
      "Processing Record 372 | Towada\n",
      "Processing Record 373 | Shancheng\n",
      "Processing Record 374 | Tokur\n",
      "Processing Record 375 | Troitskoye\n",
      "Processing Record 376 | Inhambane\n",
      "Processing Record 377 | Roald\n",
      "Processing Record 378 | Waingapu\n",
      "Processing Record 379 | Khorinsk\n",
      "Processing Record 380 | Takoradze\n",
      "Processing Record 381 | Burnie\n",
      "Processing Record 382 | Myitkyina\n",
      "Processing Record 383 | Port Hardy\n",
      "City not found. Skipping...\n",
      "Processing Record 384 | Lebu\n",
      "Processing Record 385 | Mogadishu\n",
      "Processing Record 386 | Mahon\n",
      "Processing Record 387 | Honningsvåg\n",
      "Processing Record 388 | Gravdal\n",
      "Processing Record 389 | Jalu\n",
      "Processing Record 390 | Gewanē\n",
      "Processing Record 391 | Rizómata\n",
      "Processing Record 392 | Torquay\n",
      "Processing Record 393 | Shemonaīkha\n",
      "Processing Record 394 | Grindavik\n",
      "Processing Record 395 | Dubovka\n",
      "Processing Record 396 | Tura\n",
      "Processing Record 397 | Tromsø\n",
      "Processing Record 398 | Kandrian\n",
      "Processing Record 399 | Ghanzi\n",
      "Processing Record 400 | Port-Gentil\n",
      "Processing Record 401 | Touros\n",
      "Processing Record 402 | Aksarayskiy\n",
      "Processing Record 403 | Garoowe\n",
      "Processing Record 404 | Dawlatabad\n",
      "Processing Record 405 | Pinheiro\n",
      "Processing Record 406 | Moose Factory\n",
      "Processing Record 407 | Russell\n",
      "Processing Record 408 | Chapais\n",
      "Processing Record 409 | Samaná\n",
      "Processing Record 410 | Caloundra\n",
      "Processing Record 411 | Howard Springs\n",
      "City not found. Skipping...\n",
      "Processing Record 412 | Gazojak\n",
      "Processing Record 413 | Stege\n",
      "Processing Record 414 | Kuruman\n",
      "City not found. Skipping...\n",
      "Processing Record 415 | Laishevo\n",
      "Processing Record 416 | Wollongong\n",
      "Processing Record 417 | Cravo Norte\n",
      "Processing Record 418 | Provincia di Imperia\n",
      "Processing Record 419 | Liverpool\n",
      "Processing Record 420 | Ulaangom\n",
      "Processing Record 421 | Coolum Beach\n",
      "Processing Record 422 | Marzuq\n",
      "Processing Record 423 | Mosal'sk\n",
      "Processing Record 424 | Marck\n",
      "Processing Record 425 | Upington\n",
      "Processing Record 426 | Chifeng\n",
      "Processing Record 427 | Yar-Sale\n",
      "Processing Record 428 | Zarichne\n",
      "Processing Record 429 | San Felipe\n",
      "Processing Record 430 | Diffa\n",
      "Processing Record 431 | Mareeba\n",
      "Processing Record 432 | Cacoal\n",
      "Processing Record 433 | Caravelas\n",
      "Processing Record 434 | Craig\n",
      "Processing Record 435 | Vostok\n",
      "Processing Record 436 | Voyvozh\n",
      "Processing Record 437 | Salym\n",
      "Processing Record 438 | Hoquiam\n",
      "Processing Record 439 | Broome\n",
      "Processing Record 440 | Kodinsk\n",
      "Processing Record 441 | Khandyga\n",
      "Processing Record 442 | Sokoni\n",
      "Processing Record 443 | Fes\n",
      "Processing Record 444 | Teya\n",
      "Processing Record 445 | Pyaozerskiy\n",
      "Processing Record 446 | Lopukhiv\n",
      "Processing Record 447 | Tanout\n",
      "Processing Record 448 | Soyo\n",
      "Processing Record 449 | Tsaratanana\n",
      "Processing Record 450 | Bilibino\n",
      "Processing Record 451 | Starosubkhangulovo\n",
      "Processing Record 452 | Saint George\n",
      "Processing Record 453 | Keetmanshoop\n",
      "Processing Record 454 | Abbeville\n",
      "City not found. Skipping...\n",
      "Processing Record 455 | Fairbanks\n",
      "Processing Record 456 | Tunceli\n",
      "Processing Record 457 | Naliya\n",
      "Processing Record 458 | Prome\n",
      "City not found. Skipping...\n",
      "Processing Record 459 | Cayenne\n",
      "Processing Record 460 | Bol\n",
      "Processing Record 461 | Buala\n",
      "Processing Record 462 | Sobolevo\n",
      "Processing Record 463 | Anadyr\n",
      "City not found. Skipping...\n",
      "City not found. Skipping...\n"
     ]
    },
    {
     "name": "stdout",
     "output_type": "stream",
     "text": [
      "Processing Record 464 | Tigil'\n",
      "Processing Record 465 | Maraã\n",
      "Processing Record 466 | Kununurra\n",
      "Processing Record 467 | Contrecoeur\n",
      "City not found. Skipping...\n",
      "Processing Record 468 | Ransang\n",
      "Processing Record 469 | Olinda\n",
      "Processing Record 470 | Havre-St-Pierre\n",
      "Processing Record 471 | Kemin\n",
      "Processing Record 472 | Preobrazheniye\n",
      "Processing Record 473 | Hvolsvollur\n",
      "Processing Record 474 | Porto Belo\n",
      "Processing Record 475 | Marquette\n",
      "Processing Record 476 | Hebi\n",
      "Processing Record 477 | Lucapa\n",
      "Processing Record 478 | Haifa\n",
      "Processing Record 479 | San Rafael\n",
      "Processing Record 480 | Terrace Bay\n",
      "Processing Record 481 | Kiama\n",
      "Processing Record 482 | Codrington\n",
      "Processing Record 483 | Karratha\n",
      "Processing Record 484 | Selkirk\n",
      "Processing Record 485 | Nishihara\n",
      "Processing Record 486 | Faya\n",
      "Processing Record 487 | Raudeberg\n",
      "Processing Record 488 | Bac Lieu\n",
      "Processing Record 489 | Las Margaritas\n",
      "Processing Record 490 | Guangyuan\n",
      "Processing Record 491 | Nioro\n",
      "Processing Record 492 | Porto Velho\n",
      "City not found. Skipping...\n",
      "Processing Record 493 | Beihai\n",
      "Processing Record 494 | Blyth\n",
      "Processing Record 495 | Lexington\n",
      "Processing Record 496 | Huilong\n",
      "Processing Record 497 | Beringovskiy\n",
      "Processing Record 498 | Bouillante\n",
      "Processing Record 499 | Olafsvik\n",
      "Processing Record 500 | Bāsudebpur\n",
      "Processing Record 501 | Boden\n",
      "Processing Record 502 | Dera Gopipur\n",
      "Processing Record 503 | Abu Kamal\n",
      "Processing Record 504 | Celestún\n",
      "Processing Record 505 | Yangi Marg`ilon\n",
      "Processing Record 506 | Dromolaxia\n",
      "Processing Record 507 | Rodolfo Sánchez Taboada\n",
      "Processing Record 508 | Haslett\n",
      "Processing Record 509 | Port Macquarie\n",
      "Processing Record 510 | Sawākin\n",
      "Processing Record 511 | Husavik\n",
      "Processing Record 512 | Gimli\n",
      "Processing Record 513 | Bam\n",
      "Processing Record 514 | Batticaloa\n",
      "Processing Record 515 | Shubarshi\n",
      "Processing Record 516 | Penzance\n",
      "Processing Record 517 | Juba\n",
      "Processing Record 518 | North Bend\n",
      "Processing Record 519 | Esterhazy\n",
      "Processing Record 520 | Luga\n",
      "Processing Record 521 | Estrela\n",
      "Processing Record 522 | Dickinson\n",
      "Processing Record 523 | Bambanglipuro\n",
      "Processing Record 524 | Pombia\n",
      "Processing Record 525 | Dobrinka\n",
      "Processing Record 526 | Ouadda\n",
      "City not found. Skipping...\n",
      "Processing Record 527 | Mercedes\n",
      "Processing Record 528 | Adrian\n",
      "Processing Record 529 | Porto-Novo\n",
      "Processing Record 530 | Maniitsoq\n",
      "Processing Record 531 | Talavera de la Reina\n",
      "Processing Record 532 | Digapahandi\n",
      "Processing Record 533 | Narsaq\n",
      "Processing Record 534 | Kokopo\n",
      "Processing Record 535 | Rome\n",
      "Processing Record 536 | Los Llanos de Aridane\n",
      "Processing Record 537 | Kaeo\n",
      "Processing Record 538 | Bodaybo\n",
      "Processing Record 539 | Bograd\n",
      "Processing Record 540 | Bourail\n",
      "Processing Record 541 | San Ramon\n",
      "Processing Record 542 | Fairview\n",
      "Processing Record 543 | Barra Patuca\n",
      "Processing Record 544 | Grand Gaube\n",
      "Processing Record 545 | Shirgaon\n",
      "City not found. Skipping...\n",
      "Processing Record 546 | Bulawayo\n",
      "-------------------------------\n",
      "Data Retrieval Complete\n",
      "-------------------------------\n"
     ]
    }
   ],
   "source": [
    "# Set Up Lists to Hold Reponse Info\n",
    "city_name = []\n",
    "country = []\n",
    "date = []\n",
    "latitude = []\n",
    "longitude = []\n",
    "max_temperature = []\n",
    "humidity = []\n",
    "cloudiness = []\n",
    "wind_speed = []\n",
    "\n",
    "# Processing Record Counter Starting a 1\n",
    "processing_record = 1\n",
    "\n",
    "# Print Starting Log Statement\n",
    "print(f\"Beginning Data Retrieval\")\n",
    "print(f\"-------------------------------\")\n",
    "\n",
    "# Loop Through List of Cities & Perform a Request for Data on Each\n",
    "for city in cities:\n",
    "\n",
    "# Exception Handling\n",
    "    try:\n",
    "        response = requests.get(query_url + city).json()\n",
    "        city_name.append(response[\"name\"])\n",
    "        country.append(response[\"sys\"][\"country\"])\n",
    "        date.append(response[\"dt\"])\n",
    "        latitude.append(response[\"coord\"][\"lat\"])\n",
    "        longitude.append(response[\"coord\"][\"lon\"])\n",
    "        max_temperature.append(response[\"main\"][\"temp_max\"])\n",
    "        humidity.append(response[\"main\"][\"humidity\"])\n",
    "        cloudiness.append(response[\"clouds\"][\"all\"])\n",
    "        wind_speed.append(response[\"wind\"][\"speed\"])\n",
    "        city_record = response[\"name\"]\n",
    "        print(f\"Processing Record {processing_record} | {city_record}\")\n",
    "                \n",
    "        # Increase Processing Record Counter by 1 For Each Loop\n",
    "        processing_record += 1\n",
    "        \n",
    "    except:\n",
    "        print(\"City not found. Skipping...\") \n",
    "    continue\n",
    "\n",
    "# Print Ending Log Statement\n",
    "print(f\"-------------------------------\")\n",
    "print(f\"Data Retrieval Complete\")\n",
    "print(f\"-------------------------------\")"
   ]
  },
  {
   "cell_type": "markdown",
   "metadata": {},
   "source": [
    "Convert Raw data to data frame"
   ]
  },
  {
   "cell_type": "code",
   "execution_count": 13,
   "metadata": {},
   "outputs": [
    {
     "data": {
      "text/plain": [
       "City               546\n",
       "Country            546\n",
       "Date               546\n",
       "Latitude           546\n",
       "Longitude          546\n",
       "Max Temperature    546\n",
       "Humidity           546\n",
       "Cloudiness         546\n",
       "Wind Speed         546\n",
       "dtype: int64"
      ]
     },
     "execution_count": 13,
     "metadata": {},
     "output_type": "execute_result"
    }
   ],
   "source": [
    "# Create a DataFrame from Cities, Latitude, Longitude, Temperature, Humidity, Cloudiness & Wind Speed\n",
    "weather_dict = {\n",
    "    \"City\": city_name,\n",
    "    \"Country\": country,\n",
    "    \"Date\": date,\n",
    "    \"Latitude\": latitude,\n",
    "    \"Longitude\": longitude,\n",
    "    \"Max Temperature\": max_temperature,\n",
    "    \"Humidity\": humidity,\n",
    "    \"Cloudiness\": cloudiness,\n",
    "    \"Wind Speed\": wind_speed\n",
    "}\n",
    "\n",
    "weather_df = pd.DataFrame(weather_dict)\n",
    "weather_df.count()"
   ]
  },
  {
   "cell_type": "code",
   "execution_count": 14,
   "metadata": {},
   "outputs": [
    {
     "data": {
      "text/html": [
       "<div>\n",
       "<style scoped>\n",
       "    .dataframe tbody tr th:only-of-type {\n",
       "        vertical-align: middle;\n",
       "    }\n",
       "\n",
       "    .dataframe tbody tr th {\n",
       "        vertical-align: top;\n",
       "    }\n",
       "\n",
       "    .dataframe thead th {\n",
       "        text-align: right;\n",
       "    }\n",
       "</style>\n",
       "<table border=\"1\" class=\"dataframe\">\n",
       "  <thead>\n",
       "    <tr style=\"text-align: right;\">\n",
       "      <th></th>\n",
       "      <th>City</th>\n",
       "      <th>Country</th>\n",
       "      <th>Date</th>\n",
       "      <th>Latitude</th>\n",
       "      <th>Longitude</th>\n",
       "      <th>Max Temperature</th>\n",
       "      <th>Humidity</th>\n",
       "      <th>Cloudiness</th>\n",
       "      <th>Wind Speed</th>\n",
       "    </tr>\n",
       "  </thead>\n",
       "  <tbody>\n",
       "    <tr>\n",
       "      <th>0</th>\n",
       "      <td>Ţahţā</td>\n",
       "      <td>EG</td>\n",
       "      <td>1600029003</td>\n",
       "      <td>26.77</td>\n",
       "      <td>31.50</td>\n",
       "      <td>31.00</td>\n",
       "      <td>27</td>\n",
       "      <td>0</td>\n",
       "      <td>1.00</td>\n",
       "    </tr>\n",
       "    <tr>\n",
       "      <th>1</th>\n",
       "      <td>Albany</td>\n",
       "      <td>US</td>\n",
       "      <td>1600029004</td>\n",
       "      <td>42.60</td>\n",
       "      <td>-73.97</td>\n",
       "      <td>23.33</td>\n",
       "      <td>67</td>\n",
       "      <td>65</td>\n",
       "      <td>2.94</td>\n",
       "    </tr>\n",
       "    <tr>\n",
       "      <th>2</th>\n",
       "      <td>Hobart</td>\n",
       "      <td>AU</td>\n",
       "      <td>1600028750</td>\n",
       "      <td>-42.88</td>\n",
       "      <td>147.33</td>\n",
       "      <td>8.00</td>\n",
       "      <td>61</td>\n",
       "      <td>20</td>\n",
       "      <td>8.20</td>\n",
       "    </tr>\n",
       "    <tr>\n",
       "      <th>3</th>\n",
       "      <td>Rikitea</td>\n",
       "      <td>PF</td>\n",
       "      <td>1600029004</td>\n",
       "      <td>-23.12</td>\n",
       "      <td>-134.97</td>\n",
       "      <td>23.10</td>\n",
       "      <td>84</td>\n",
       "      <td>0</td>\n",
       "      <td>6.09</td>\n",
       "    </tr>\n",
       "    <tr>\n",
       "      <th>4</th>\n",
       "      <td>Busselton</td>\n",
       "      <td>AU</td>\n",
       "      <td>1600029004</td>\n",
       "      <td>-33.65</td>\n",
       "      <td>115.33</td>\n",
       "      <td>13.33</td>\n",
       "      <td>63</td>\n",
       "      <td>100</td>\n",
       "      <td>3.02</td>\n",
       "    </tr>\n",
       "  </tbody>\n",
       "</table>\n",
       "</div>"
      ],
      "text/plain": [
       "        City Country        Date  Latitude  Longitude  Max Temperature  \\\n",
       "0      Ţahţā      EG  1600029003     26.77      31.50            31.00   \n",
       "1     Albany      US  1600029004     42.60     -73.97            23.33   \n",
       "2     Hobart      AU  1600028750    -42.88     147.33             8.00   \n",
       "3    Rikitea      PF  1600029004    -23.12    -134.97            23.10   \n",
       "4  Busselton      AU  1600029004    -33.65     115.33            13.33   \n",
       "\n",
       "   Humidity  Cloudiness  Wind Speed  \n",
       "0        27           0        1.00  \n",
       "1        67          65        2.94  \n",
       "2        61          20        8.20  \n",
       "3        84           0        6.09  \n",
       "4        63         100        3.02  "
      ]
     },
     "execution_count": 14,
     "metadata": {},
     "output_type": "execute_result"
    }
   ],
   "source": [
    "# Display DataFrame\n",
    "weather_df.head()"
   ]
  },
  {
   "cell_type": "markdown",
   "metadata": {},
   "source": [
    "## Inspect the data and remove the cities where the humidity > 100%.\n",
    "----\n",
    "Skip this step if there are no cities that have humidity > 100%. "
   ]
  },
  {
   "cell_type": "code",
   "execution_count": 26,
   "metadata": {},
   "outputs": [
    {
     "data": {
      "text/html": [
       "<div>\n",
       "<style scoped>\n",
       "    .dataframe tbody tr th:only-of-type {\n",
       "        vertical-align: middle;\n",
       "    }\n",
       "\n",
       "    .dataframe tbody tr th {\n",
       "        vertical-align: top;\n",
       "    }\n",
       "\n",
       "    .dataframe thead th {\n",
       "        text-align: right;\n",
       "    }\n",
       "</style>\n",
       "<table border=\"1\" class=\"dataframe\">\n",
       "  <thead>\n",
       "    <tr style=\"text-align: right;\">\n",
       "      <th></th>\n",
       "      <th>Date</th>\n",
       "      <th>Latitude</th>\n",
       "      <th>Longitude</th>\n",
       "      <th>Max Temperature</th>\n",
       "      <th>Humidity</th>\n",
       "      <th>Cloudiness</th>\n",
       "      <th>Wind Speed</th>\n",
       "    </tr>\n",
       "  </thead>\n",
       "  <tbody>\n",
       "    <tr>\n",
       "      <th>count</th>\n",
       "      <td>5.460000e+02</td>\n",
       "      <td>546.000000</td>\n",
       "      <td>546.000000</td>\n",
       "      <td>546.000000</td>\n",
       "      <td>546.000000</td>\n",
       "      <td>546.000000</td>\n",
       "      <td>546.000000</td>\n",
       "    </tr>\n",
       "    <tr>\n",
       "      <th>mean</th>\n",
       "      <td>1.600029e+09</td>\n",
       "      <td>21.242875</td>\n",
       "      <td>14.259579</td>\n",
       "      <td>19.430568</td>\n",
       "      <td>70.402930</td>\n",
       "      <td>49.450549</td>\n",
       "      <td>3.397930</td>\n",
       "    </tr>\n",
       "    <tr>\n",
       "      <th>std</th>\n",
       "      <td>8.855427e+01</td>\n",
       "      <td>33.046907</td>\n",
       "      <td>89.719873</td>\n",
       "      <td>8.439882</td>\n",
       "      <td>21.954806</td>\n",
       "      <td>38.236328</td>\n",
       "      <td>2.178089</td>\n",
       "    </tr>\n",
       "    <tr>\n",
       "      <th>min</th>\n",
       "      <td>1.600029e+09</td>\n",
       "      <td>-54.800000</td>\n",
       "      <td>-179.170000</td>\n",
       "      <td>-5.180000</td>\n",
       "      <td>1.000000</td>\n",
       "      <td>0.000000</td>\n",
       "      <td>0.080000</td>\n",
       "    </tr>\n",
       "    <tr>\n",
       "      <th>25%</th>\n",
       "      <td>1.600029e+09</td>\n",
       "      <td>-5.580000</td>\n",
       "      <td>-62.930000</td>\n",
       "      <td>12.800000</td>\n",
       "      <td>58.000000</td>\n",
       "      <td>6.000000</td>\n",
       "      <td>1.790000</td>\n",
       "    </tr>\n",
       "    <tr>\n",
       "      <th>50%</th>\n",
       "      <td>1.600029e+09</td>\n",
       "      <td>26.905000</td>\n",
       "      <td>18.215000</td>\n",
       "      <td>21.025000</td>\n",
       "      <td>76.000000</td>\n",
       "      <td>48.000000</td>\n",
       "      <td>2.990000</td>\n",
       "    </tr>\n",
       "    <tr>\n",
       "      <th>75%</th>\n",
       "      <td>1.600029e+09</td>\n",
       "      <td>49.620000</td>\n",
       "      <td>89.765000</td>\n",
       "      <td>26.000000</td>\n",
       "      <td>87.000000</td>\n",
       "      <td>90.000000</td>\n",
       "      <td>4.600000</td>\n",
       "    </tr>\n",
       "    <tr>\n",
       "      <th>max</th>\n",
       "      <td>1.600029e+09</td>\n",
       "      <td>78.220000</td>\n",
       "      <td>179.320000</td>\n",
       "      <td>41.140000</td>\n",
       "      <td>100.000000</td>\n",
       "      <td>100.000000</td>\n",
       "      <td>12.900000</td>\n",
       "    </tr>\n",
       "  </tbody>\n",
       "</table>\n",
       "</div>"
      ],
      "text/plain": [
       "               Date    Latitude   Longitude  Max Temperature    Humidity  \\\n",
       "count  5.460000e+02  546.000000  546.000000       546.000000  546.000000   \n",
       "mean   1.600029e+09   21.242875   14.259579        19.430568   70.402930   \n",
       "std    8.855427e+01   33.046907   89.719873         8.439882   21.954806   \n",
       "min    1.600029e+09  -54.800000 -179.170000        -5.180000    1.000000   \n",
       "25%    1.600029e+09   -5.580000  -62.930000        12.800000   58.000000   \n",
       "50%    1.600029e+09   26.905000   18.215000        21.025000   76.000000   \n",
       "75%    1.600029e+09   49.620000   89.765000        26.000000   87.000000   \n",
       "max    1.600029e+09   78.220000  179.320000        41.140000  100.000000   \n",
       "\n",
       "       Cloudiness  Wind Speed  \n",
       "count  546.000000  546.000000  \n",
       "mean    49.450549    3.397930  \n",
       "std     38.236328    2.178089  \n",
       "min      0.000000    0.080000  \n",
       "25%      6.000000    1.790000  \n",
       "50%     48.000000    2.990000  \n",
       "75%     90.000000    4.600000  \n",
       "max    100.000000   12.900000  "
      ]
     },
     "execution_count": 26,
     "metadata": {},
     "output_type": "execute_result"
    }
   ],
   "source": [
    "weather_df.describe()"
   ]
  },
  {
   "cell_type": "code",
   "execution_count": 15,
   "metadata": {},
   "outputs": [],
   "source": [
    "# Export & Save Data Into a .csv.\n",
    "weather_df.to_csv(\"./Data/weather_data.csv\")"
   ]
  },
  {
   "cell_type": "markdown",
   "metadata": {},
   "source": [
    "## Plotting the Data\n",
    "* Use proper labeling of the plots using plot titles (including date of analysis) and axes labels.\n",
    "* Save the plotted figures as .pngs."
   ]
  },
  {
   "cell_type": "markdown",
   "metadata": {},
   "source": [
    "## Latitude vs. Temperature Plot"
   ]
  },
  {
   "cell_type": "code",
   "execution_count": 21,
   "metadata": {},
   "outputs": [
    {
     "data": {
      "image/png": "[encoded data removed]",
      "text/plain": [
       "<Figure size 432x288 with 1 Axes>"
      ]
     },
     "metadata": {
      "needs_background": "light"
     },
     "output_type": "display_data"
    }
   ],
   "source": [
    "# Build Scatter Plot for Each Data Type\n",
    "plt.scatter(weather_df[\"Latitude\"], weather_df[\"Max Temperature\"], facecolors=\"red\", marker=\"o\", edgecolor=\"black\")\n",
    "\n",
    "# Incorporate Other Graph Properties\n",
    "plt.title(\"City Latitude vs. Max Temperature\")\n",
    "plt.ylabel(\"Max Temperature (°F)\")\n",
    "plt.xlabel(\"Latitude\")\n",
    "plt.grid(True)\n",
    "\n",
    "# Save Figure\n",
    "plt.savefig(\"./Data/City_Latitude_vs_Max_Temperature.png\")\n",
    "\n",
    "# Show Plot\n",
    "plt.show()"
   ]
  },
  {
   "cell_type": "markdown",
   "metadata": {},
   "source": [
    "## Latitude vs. Humidity Plot"
   ]
  },
  {
   "cell_type": "code",
   "execution_count": 22,
   "metadata": {},
   "outputs": [
    {
     "data": {
      "image/png": "[encoded data removed]",
      "text/plain": [
       "<Figure size 432x288 with 1 Axes>"
      ]
     },
     "metadata": {
      "needs_background": "light"
     },
     "output_type": "display_data"
    }
   ],
   "source": [
    "# Build Scatter Plot for Each Data Type\n",
    "plt.scatter(weather_df[\"Latitude\"], weather_df[\"Humidity\"], facecolors=\"green\", marker=\"o\", edgecolor=\"black\")\n",
    "# Incorporate Other Graph Properties\n",
    "plt.title(\"City Latitude vs. Humidity\")\n",
    "plt.ylabel(\"Humidity (%)\")\n",
    "plt.xlabel(\"Latitude\")\n",
    "plt.grid(True)\n",
    "\n",
    "# Save Figure\n",
    "plt.savefig(\"./Data/City_Latitude_vs_Humidity.png\")\n",
    "\n",
    "# Show Plot\n",
    "plt.show()"
   ]
  },
  {
   "cell_type": "markdown",
   "metadata": {},
   "source": [
    "## Latitude vs. Cloudiness Plot"
   ]
  },
  {
   "cell_type": "code",
   "execution_count": 24,
   "metadata": {},
   "outputs": [
    {
     "data": {
      "image/png": "[encoded data removed]",
      "text/plain": [
       "<Figure size 432x288 with 1 Axes>"
      ]
     },
     "metadata": {
      "needs_background": "light"
     },
     "output_type": "display_data"
    }
   ],
   "source": [
    "# Build Scatter Plot for Each Data Type\n",
    "plt.scatter(weather_df[\"Latitude\"], weather_df[\"Cloudiness\"], facecolors=\"blue\", marker=\"o\", edgecolor=\"black\")\n",
    "\n",
    "# Incorporate Other Graph Properties\n",
    "plt.title(\"City Latitude vs. Cloudiness\")\n",
    "plt.ylabel(\"Cloudiness (%)\")\n",
    "plt.xlabel(\"Latitude\")\n",
    "plt.grid(True)\n",
    "\n",
    "# Save Figure\n",
    "plt.savefig(\"./Data/City_Latitude_vs_Cloudiness.png\")\n",
    "\n",
    "# Show Plot\n",
    "plt.show()"
   ]
  },
  {
   "cell_type": "markdown",
   "metadata": {},
   "source": [
    "## Latitude vs. Wind Speed Plot"
   ]
  },
  {
   "cell_type": "code",
   "execution_count": 25,
   "metadata": {},
   "outputs": [
    {
     "data": {
      "image/png": "[encoded data removed]",
      "text/plain": [
       "<Figure size 432x288 with 1 Axes>"
      ]
     },
     "metadata": {
      "needs_background": "light"
     },
     "output_type": "display_data"
    }
   ],
   "source": [
    "plt.scatter(weather_df[\"Latitude\"], weather_df[\"Wind Speed\"], facecolors=\"yellow\", marker=\"o\", edgecolor=\"black\")\n",
    "\n",
    "# Incorporate Other Graph Properties\n",
    "plt.title(\"City Latitude vs. Wind Speed\")\n",
    "plt.ylabel(\"Wind Speed (mph)\")\n",
    "plt.xlabel(\"Latitude\")\n",
    "plt.grid(True)\n",
    "\n",
    "# Save Figure\n",
    "plt.savefig(\"./Data/City_Latitude_vs_Wind_Speed.png\")\n",
    "\n",
    "# Show Plot\n",
    "plt.show()"
   ]
  },
  {
   "cell_type": "markdown",
   "metadata": {},
   "source": [
    "## Linear Regression"
   ]
  },
  {
   "cell_type": "code",
   "execution_count": 29,
   "metadata": {},
   "outputs": [
    {
     "data": {
      "text/plain": [
       "(383, 9)"
      ]
     },
     "execution_count": 29,
     "metadata": {},
     "output_type": "execute_result"
    }
   ],
   "source": [
    "# Northern Hemisphere (greater than or equal to 0 degrees latitude)\n",
    "northern_df = weather_df.loc[weather_df[\"Latitude\"] > 0]\n",
    "northern_df.shape"
   ]
  },
  {
   "cell_type": "code",
   "execution_count": 30,
   "metadata": {},
   "outputs": [
    {
     "data": {
      "text/html": [
       "<div>\n",
       "<style scoped>\n",
       "    .dataframe tbody tr th:only-of-type {\n",
       "        vertical-align: middle;\n",
       "    }\n",
       "\n",
       "    .dataframe tbody tr th {\n",
       "        vertical-align: top;\n",
       "    }\n",
       "\n",
       "    .dataframe thead th {\n",
       "        text-align: right;\n",
       "    }\n",
       "</style>\n",
       "<table border=\"1\" class=\"dataframe\">\n",
       "  <thead>\n",
       "    <tr style=\"text-align: right;\">\n",
       "      <th></th>\n",
       "      <th>City</th>\n",
       "      <th>Country</th>\n",
       "      <th>Date</th>\n",
       "      <th>Latitude</th>\n",
       "      <th>Longitude</th>\n",
       "      <th>Max Temperature</th>\n",
       "      <th>Humidity</th>\n",
       "      <th>Cloudiness</th>\n",
       "      <th>Wind Speed</th>\n",
       "    </tr>\n",
       "  </thead>\n",
       "  <tbody>\n",
       "    <tr>\n",
       "      <th>0</th>\n",
       "      <td>Ţahţā</td>\n",
       "      <td>EG</td>\n",
       "      <td>1600029003</td>\n",
       "      <td>26.77</td>\n",
       "      <td>31.50</td>\n",
       "      <td>31.00</td>\n",
       "      <td>27</td>\n",
       "      <td>0</td>\n",
       "      <td>1.00</td>\n",
       "    </tr>\n",
       "    <tr>\n",
       "      <th>1</th>\n",
       "      <td>Albany</td>\n",
       "      <td>US</td>\n",
       "      <td>1600029004</td>\n",
       "      <td>42.60</td>\n",
       "      <td>-73.97</td>\n",
       "      <td>23.33</td>\n",
       "      <td>67</td>\n",
       "      <td>65</td>\n",
       "      <td>2.94</td>\n",
       "    </tr>\n",
       "    <tr>\n",
       "      <th>7</th>\n",
       "      <td>Asău</td>\n",
       "      <td>RO</td>\n",
       "      <td>1600029006</td>\n",
       "      <td>46.43</td>\n",
       "      <td>26.40</td>\n",
       "      <td>15.00</td>\n",
       "      <td>91</td>\n",
       "      <td>4</td>\n",
       "      <td>2.14</td>\n",
       "    </tr>\n",
       "  </tbody>\n",
       "</table>\n",
       "</div>"
      ],
      "text/plain": [
       "     City Country        Date  Latitude  Longitude  Max Temperature  Humidity  \\\n",
       "0   Ţahţā      EG  1600029003     26.77      31.50            31.00        27   \n",
       "1  Albany      US  1600029004     42.60     -73.97            23.33        67   \n",
       "7    Asău      RO  1600029006     46.43      26.40            15.00        91   \n",
       "\n",
       "   Cloudiness  Wind Speed  \n",
       "0           0        1.00  \n",
       "1          65        2.94  \n",
       "7           4        2.14  "
      ]
     },
     "execution_count": 30,
     "metadata": {},
     "output_type": "execute_result"
    }
   ],
   "source": [
    "northern_df.head(3)"
   ]
  },
  {
   "cell_type": "code",
   "execution_count": 35,
   "metadata": {},
   "outputs": [
    {
     "data": {
      "text/plain": [
       "(163, 9)"
      ]
     },
     "execution_count": 35,
     "metadata": {},
     "output_type": "execute_result"
    }
   ],
   "source": [
    "# Northern Hemisphere (greater than or equal to 0 degrees latitude)\n",
    "southern_df = weather_df.loc[weather_df[\"Latitude\"] < 0]\n",
    "southern_df.shape"
   ]
  },
  {
   "cell_type": "code",
   "execution_count": 37,
   "metadata": {},
   "outputs": [
    {
     "data": {
      "text/html": [
       "<div>\n",
       "<style scoped>\n",
       "    .dataframe tbody tr th:only-of-type {\n",
       "        vertical-align: middle;\n",
       "    }\n",
       "\n",
       "    .dataframe tbody tr th {\n",
       "        vertical-align: top;\n",
       "    }\n",
       "\n",
       "    .dataframe thead th {\n",
       "        text-align: right;\n",
       "    }\n",
       "</style>\n",
       "<table border=\"1\" class=\"dataframe\">\n",
       "  <thead>\n",
       "    <tr style=\"text-align: right;\">\n",
       "      <th></th>\n",
       "      <th>City</th>\n",
       "      <th>Country</th>\n",
       "      <th>Date</th>\n",
       "      <th>Latitude</th>\n",
       "      <th>Longitude</th>\n",
       "      <th>Max Temperature</th>\n",
       "      <th>Humidity</th>\n",
       "      <th>Cloudiness</th>\n",
       "      <th>Wind Speed</th>\n",
       "    </tr>\n",
       "  </thead>\n",
       "  <tbody>\n",
       "    <tr>\n",
       "      <th>2</th>\n",
       "      <td>Hobart</td>\n",
       "      <td>AU</td>\n",
       "      <td>1600028750</td>\n",
       "      <td>-42.88</td>\n",
       "      <td>147.33</td>\n",
       "      <td>8.00</td>\n",
       "      <td>61</td>\n",
       "      <td>20</td>\n",
       "      <td>8.20</td>\n",
       "    </tr>\n",
       "    <tr>\n",
       "      <th>3</th>\n",
       "      <td>Rikitea</td>\n",
       "      <td>PF</td>\n",
       "      <td>1600029004</td>\n",
       "      <td>-23.12</td>\n",
       "      <td>-134.97</td>\n",
       "      <td>23.10</td>\n",
       "      <td>84</td>\n",
       "      <td>0</td>\n",
       "      <td>6.09</td>\n",
       "    </tr>\n",
       "    <tr>\n",
       "      <th>4</th>\n",
       "      <td>Busselton</td>\n",
       "      <td>AU</td>\n",
       "      <td>1600029004</td>\n",
       "      <td>-33.65</td>\n",
       "      <td>115.33</td>\n",
       "      <td>13.33</td>\n",
       "      <td>63</td>\n",
       "      <td>100</td>\n",
       "      <td>3.02</td>\n",
       "    </tr>\n",
       "  </tbody>\n",
       "</table>\n",
       "</div>"
      ],
      "text/plain": [
       "        City Country        Date  Latitude  Longitude  Max Temperature  \\\n",
       "2     Hobart      AU  1600028750    -42.88     147.33             8.00   \n",
       "3    Rikitea      PF  1600029004    -23.12    -134.97            23.10   \n",
       "4  Busselton      AU  1600029004    -33.65     115.33            13.33   \n",
       "\n",
       "   Humidity  Cloudiness  Wind Speed  \n",
       "2        61          20        8.20  \n",
       "3        84           0        6.09  \n",
       "4        63         100        3.02  "
      ]
     },
     "execution_count": 37,
     "metadata": {},
     "output_type": "execute_result"
    }
   ],
   "source": [
    "southern_df.head(3)"
   ]
  },
  {
   "cell_type": "markdown",
   "metadata": {},
   "source": [
    "####  Northern Hemisphere - Max Temp vs. Latitude Linear Regression"
   ]
  },
  {
   "cell_type": "code",
   "execution_count": 41,
   "metadata": {},
   "outputs": [
    {
     "name": "stdout",
     "output_type": "stream",
     "text": [
      "y = -0.36x +33.25\n",
      "The r-squared is: 0.6716872026851916\n"
     ]
    },
    {
     "data": {
      "image/png": "[encoded data removed]",
      "text/plain": [
       "<Figure size 432x288 with 1 Axes>"
      ]
     },
     "metadata": {
      "needs_background": "light"
     },
     "output_type": "display_data"
    }
   ],
   "source": [
    "# Generate a scatter plot of year temperature vs Latitude\n",
    "\n",
    "x_values = northern_df['Latitude']\n",
    "y_values = northern_df['Max Temperature']\n",
    "\n",
    "# Perform a linear regression on temperature vs. latitude\n",
    "(slope, intercept, rvalue, pvalue, stderr) = stats.linregress(x_values, y_values)\n",
    "\n",
    "# Get regression values\n",
    "regress_values = x_values * slope + intercept\n",
    "#print(regress_values)\n",
    "\n",
    "# Create line equation string\n",
    "line_eq = \"y = \" + str(round(slope,2)) + \"x +\" + str(round(intercept,2))\n",
    "print(line_eq)\n",
    "\n",
    "# Create Plot\n",
    "plt.scatter(x_values,y_values)\n",
    "plt.plot(x_values,regress_values,\"r-\")\n",
    "\n",
    "# Label plot and annotate the line equation\n",
    "plt.xlabel('Latitude')\n",
    "plt.ylabel('Temperature')\n",
    "plt.annotate(line_eq,(20,15),fontsize=15,color=\"red\")\n",
    "\n",
    "# Print r square value\n",
    "print(f\"The r-squared is: {rvalue**2}\")\n",
    "\n",
    "# Save Figure\n",
    "plt.savefig(\"./Data/Northern_Hemisphere_Latitude_vs_Temperature.png\")\n",
    "\n",
    "# Show plot\n",
    "plt.show()\n",
    "\n"
   ]
  },
  {
   "cell_type": "code",
   "execution_count": null,
   "metadata": {},
   "outputs": [],
   "source": [
    "In the Northern Hemisphere, temperature decreases as the Latitude increases. High temperature near the equator.\n",
    "r-square of 0.67 shows high correlation between temperature and latitude."
   ]
  },
  {
   "cell_type": "markdown",
   "metadata": {},
   "source": [
    "####  Southern Hemisphere - Max Temp vs. Latitude Linear Regression"
   ]
  },
  {
   "cell_type": "code",
   "execution_count": 42,
   "metadata": {},
   "outputs": [
    {
     "name": "stdout",
     "output_type": "stream",
     "text": [
      "y = 0.43x +29.18\n",
      "The r-squared is: 0.6518707309256865\n"
     ]
    },
    {
     "data": {
      "image/png": "[encoded data removed]",
      "text/plain": [
       "<Figure size 432x288 with 1 Axes>"
      ]
     },
     "metadata": {
      "needs_background": "light"
     },
     "output_type": "display_data"
    }
   ],
   "source": [
    "# Generate a scatter plot of year temperature vs Latitude\n",
    "\n",
    "x_values = southern_df['Latitude']\n",
    "y_values = southern_df['Max Temperature']\n",
    "\n",
    "# Perform a linear regression on temperature vs. latitude\n",
    "(slope, intercept, rvalue, pvalue, stderr) = stats.linregress(x_values, y_values)\n",
    "\n",
    "# Get regression values\n",
    "regress_values = x_values * slope + intercept\n",
    "#print(regress_values)\n",
    "\n",
    "# Create line equation string\n",
    "line_eq = \"y = \" + str(round(slope,2)) + \"x +\" + str(round(intercept,2))\n",
    "print(line_eq)\n",
    "\n",
    "# Create Plot\n",
    "plt.scatter(x_values,y_values)\n",
    "plt.plot(x_values,regress_values,\"r-\")\n",
    "\n",
    "# Label plot and annotate the line equation\n",
    "plt.xlabel('Latitude')\n",
    "plt.ylabel('Temperature')\n",
    "plt.annotate(line_eq,(20,15),fontsize=15,color=\"red\")\n",
    "\n",
    "# Print r square value\n",
    "print(f\"The r-squared is: {rvalue**2}\")\n",
    "# Save Figure\n",
    "plt.savefig(\"./Data/Southern_Hemisphere_Latitude_vs_Temperature.png\")\n",
    "\n",
    "# Show plot\n",
    "plt.show()"
   ]
  },
  {
   "cell_type": "code",
   "execution_count": null,
   "metadata": {},
   "outputs": [],
   "source": [
    "In the Southern Hemosphere, temperature decreases as the Latitide increases. High temperature near he equator.\n",
    "r-square of 0.65 shows high correlation between temperature and latitude."
   ]
  },
  {
   "cell_type": "markdown",
   "metadata": {},
   "source": [
    "####  Northern Hemisphere - Humidity (%) vs. Latitude Linear Regression"
   ]
  },
  {
   "cell_type": "code",
   "execution_count": 43,
   "metadata": {},
   "outputs": [
    {
     "name": "stdout",
     "output_type": "stream",
     "text": [
      "y = 0.07x +68.98\n",
      "The r-squared is: 0.0038889187687887266\n"
     ]
    },
    {
     "data": {
      "image/png": "[encoded data removed]",
      "text/plain": [
       "<Figure size 432x288 with 1 Axes>"
      ]
     },
     "metadata": {
      "needs_background": "light"
     },
     "output_type": "display_data"
    }
   ],
   "source": [
    "# Generate a scatter plot of year temperature vs Latitude\n",
    "\n",
    "x_values = northern_df['Latitude']\n",
    "y_values = northern_df['Humidity']\n",
    "\n",
    "# Perform a linear regression on temperature vs. latitude\n",
    "(slope, intercept, rvalue, pvalue, stderr) = stats.linregress(x_values, y_values)\n",
    "\n",
    "# Get regression values\n",
    "regress_values = x_values * slope + intercept\n",
    "#print(regress_values)\n",
    "\n",
    "# Create line equation string\n",
    "line_eq = \"y = \" + str(round(slope,2)) + \"x +\" + str(round(intercept,2))\n",
    "print(line_eq)\n",
    "\n",
    "# Create Plot\n",
    "plt.scatter(x_values,y_values)\n",
    "plt.plot(x_values,regress_values,\"r-\")\n",
    "\n",
    "# Label plot and annotate the line equation\n",
    "plt.xlabel('Latitude')\n",
    "plt.ylabel('Humidity')\n",
    "plt.annotate(line_eq,(20,15),fontsize=15,color=\"red\")\n",
    "\n",
    "# Print r square value\n",
    "print(f\"The r-squared is: {rvalue**2}\")\n",
    "\n",
    "# Save Figure\n",
    "plt.savefig(\"./Data/Northern_Hemisphere_Latitude_vs_Humidity.png\")\n",
    "\n",
    "# Show plot\n",
    "plt.show()"
   ]
  },
  {
   "cell_type": "code",
   "execution_count": null,
   "metadata": {},
   "outputs": [],
   "source": [
    "Latitude has no effect on Humidity."
   ]
  },
  {
   "cell_type": "markdown",
   "metadata": {},
   "source": [
    "####  Southern Hemisphere - Humidity (%) vs. Latitude Linear Regression"
   ]
  },
  {
   "cell_type": "code",
   "execution_count": 44,
   "metadata": {},
   "outputs": [
    {
     "name": "stdout",
     "output_type": "stream",
     "text": [
      "y = 0.07x +68.95\n",
      "The r-squared is: 0.00211762282861066\n"
     ]
    },
    {
     "data": {
      "image/png": "[encoded data removed]",
      "text/plain": [
       "<Figure size 432x288 with 1 Axes>"
      ]
     },
     "metadata": {
      "needs_background": "light"
     },
     "output_type": "display_data"
    }
   ],
   "source": [
    "# Generate a scatter plot of year temperature vs Latitude\n",
    "\n",
    "x_values = southern_df['Latitude']\n",
    "y_values = southern_df['Humidity']\n",
    "\n",
    "# Perform a linear regression on temperature vs. latitude\n",
    "(slope, intercept, rvalue, pvalue, stderr) = stats.linregress(x_values, y_values)\n",
    "\n",
    "# Get regression values\n",
    "regress_values = x_values * slope + intercept\n",
    "#print(regress_values)\n",
    "\n",
    "# Create line equation string\n",
    "line_eq = \"y = \" + str(round(slope,2)) + \"x +\" + str(round(intercept,2))\n",
    "print(line_eq)\n",
    "\n",
    "# Create Plot\n",
    "plt.scatter(x_values,y_values)\n",
    "plt.plot(x_values,regress_values,\"r-\")\n",
    "\n",
    "# Label plot and annotate the line equation\n",
    "plt.xlabel('Latitude')\n",
    "plt.ylabel('Humidity')\n",
    "plt.annotate(line_eq,(20,15),fontsize=15,color=\"red\")\n",
    "\n",
    "# Print r square value\n",
    "print(f\"The r-squared is: {rvalue**2}\")\n",
    "\n",
    "# Save Figure\n",
    "plt.savefig(\"./Data/Southern_Hemisphere_Latitude_vs_Humidity.png\")\n",
    "\n",
    "# Show plot\n",
    "plt.show()"
   ]
  },
  {
   "cell_type": "code",
   "execution_count": null,
   "metadata": {},
   "outputs": [],
   "source": [
    "Latitude has no effect on Humidity."
   ]
  },
  {
   "cell_type": "markdown",
   "metadata": {},
   "source": [
    "####  Northern Hemisphere - Cloudiness (%) vs. Latitude Linear Regression"
   ]
  },
  {
   "cell_type": "code",
   "execution_count": 45,
   "metadata": {},
   "outputs": [
    {
     "name": "stdout",
     "output_type": "stream",
     "text": [
      "y = -0.09x +55.5\n",
      "The r-squared is: 0.0021055383249680695\n"
     ]
    },
    {
     "data": {
      "image/png": "[encoded data removed]",
      "text/plain": [
       "<Figure size 432x288 with 1 Axes>"
      ]
     },
     "metadata": {
      "needs_background": "light"
     },
     "output_type": "display_data"
    }
   ],
   "source": [
    "# Generate a scatter plot of year temperature vs Latitude\n",
    "\n",
    "x_values = northern_df['Latitude']\n",
    "y_values = northern_df['Cloudiness']\n",
    "\n",
    "# Perform a linear regression on temperature vs. latitude\n",
    "(slope, intercept, rvalue, pvalue, stderr) = stats.linregress(x_values, y_values)\n",
    "\n",
    "# Get regression values\n",
    "regress_values = x_values * slope + intercept\n",
    "#print(regress_values)\n",
    "\n",
    "# Create line equation string\n",
    "line_eq = \"y = \" + str(round(slope,2)) + \"x +\" + str(round(intercept,2))\n",
    "print(line_eq)\n",
    "\n",
    "# Create Plot\n",
    "plt.scatter(x_values,y_values)\n",
    "plt.plot(x_values,regress_values,\"r-\")\n",
    "\n",
    "# Label plot and annotate the line equation\n",
    "plt.xlabel('Latitude')\n",
    "plt.ylabel('Cloudiness')\n",
    "plt.annotate(line_eq,(20,15),fontsize=15,color=\"red\")\n",
    "\n",
    "# Print r square value\n",
    "print(f\"The r-squared is: {rvalue**2}\")\n",
    "\n",
    "# Save Figure\n",
    "plt.savefig(\"./Data/Northern_Hemisphere_Latitude_vs_Cloudiness.png\")\n",
    "\n",
    "# Show plot\n",
    "plt.show()\n",
    "\n"
   ]
  },
  {
   "cell_type": "code",
   "execution_count": null,
   "metadata": {},
   "outputs": [],
   "source": [
    "Northern Hemisphere - Regression Line and plot shows Cloudiness is little less at Latitudes further away from the equator."
   ]
  },
  {
   "cell_type": "markdown",
   "metadata": {},
   "source": [
    "####  Southern Hemisphere - Cloudiness (%) vs. Latitude Linear Regression"
   ]
  },
  {
   "cell_type": "code",
   "execution_count": 46,
   "metadata": {},
   "outputs": [
    {
     "name": "stdout",
     "output_type": "stream",
     "text": [
      "y = 0.18x +46.95\n",
      "The r-squared is: 0.004108590526852933\n"
     ]
    },
    {
     "data": {
      "image/png": "[encoded data removed]",
      "text/plain": [
       "<Figure size 432x288 with 1 Axes>"
      ]
     },
     "metadata": {
      "needs_background": "light"
     },
     "output_type": "display_data"
    }
   ],
   "source": [
    "# Generate a scatter plot of year temperature vs Latitude\n",
    "\n",
    "x_values = southern_df['Latitude']\n",
    "y_values = southern_df['Cloudiness']\n",
    "\n",
    "# Perform a linear regression on temperature vs. latitude\n",
    "(slope, intercept, rvalue, pvalue, stderr) = stats.linregress(x_values, y_values)\n",
    "\n",
    "# Get regression values\n",
    "regress_values = x_values * slope + intercept\n",
    "#print(regress_values)\n",
    "\n",
    "# Create line equation string\n",
    "line_eq = \"y = \" + str(round(slope,2)) + \"x +\" + str(round(intercept,2))\n",
    "print(line_eq)\n",
    "\n",
    "# Create Plot\n",
    "plt.scatter(x_values,y_values)\n",
    "plt.plot(x_values,regress_values,\"r-\")\n",
    "\n",
    "# Label plot and annotate the line equation\n",
    "plt.xlabel('Latitude')\n",
    "plt.ylabel('Cloudiness')\n",
    "plt.annotate(line_eq,(20,15),fontsize=15,color=\"red\")\n",
    "\n",
    "# Print r square value\n",
    "print(f\"The r-squared is: {rvalue**2}\")\n",
    "\n",
    "# Save Figure\n",
    "plt.savefig(\"./Data/Southern_Hemisphere_Latitude_vs_Cloudiness.png\")\n",
    "\n",
    "# Show plot\n",
    "plt.show()\n",
    "\n"
   ]
  },
  {
   "cell_type": "code",
   "execution_count": null,
   "metadata": {},
   "outputs": [],
   "source": [
    "Southern Hemisphere - Regression Line and plot shows Cloudiness is little less at Latitudes further away from the equator."
   ]
  },
  {
   "cell_type": "markdown",
   "metadata": {},
   "source": [
    "####  Northern Hemisphere - Wind Speed (mph) vs. Latitude Linear Regression"
   ]
  },
  {
   "cell_type": "code",
   "execution_count": 47,
   "metadata": {},
   "outputs": [
    {
     "name": "stdout",
     "output_type": "stream",
     "text": [
      "y = 0.02x +2.65\n",
      "The r-squared is: 0.02382337364504815\n"
     ]
    },
    {
     "data": {
      "image/png": "[encoded data removed]",
      "text/plain": [
       "<Figure size 432x288 with 1 Axes>"
      ]
     },
     "metadata": {
      "needs_background": "light"
     },
     "output_type": "display_data"
    }
   ],
   "source": [
    "# Generate a scatter plot of year temperature vs Latitude\n",
    "\n",
    "x_values = northern_df['Latitude']\n",
    "y_values = northern_df['Wind Speed']\n",
    "\n",
    "# Perform a linear regression on temperature vs. latitude\n",
    "(slope, intercept, rvalue, pvalue, stderr) = stats.linregress(x_values, y_values)\n",
    "\n",
    "# Get regression values\n",
    "regress_values = x_values * slope + intercept\n",
    "#print(regress_values)\n",
    "\n",
    "# Create line equation string\n",
    "line_eq = \"y = \" + str(round(slope,2)) + \"x +\" + str(round(intercept,2))\n",
    "print(line_eq)\n",
    "\n",
    "# Create Plot\n",
    "plt.scatter(x_values,y_values)\n",
    "plt.plot(x_values,regress_values,\"r-\")\n",
    "\n",
    "# Label plot and annotate the line equation\n",
    "plt.xlabel('Latitude')\n",
    "plt.ylabel('Wind Speed')\n",
    "plt.annotate(line_eq,(20,15),fontsize=15,color=\"red\")\n",
    "\n",
    "# Print r square value\n",
    "print(f\"The r-squared is: {rvalue**2}\")\n",
    "\n",
    "# Save Figure\n",
    "plt.savefig(\"./Data/Northern_Hemisphere_Latitude_vs_Wind_Speed.png\")\n",
    "\n",
    "# Show plot\n",
    "plt.show()\n",
    "\n"
   ]
  },
  {
   "cell_type": "code",
   "execution_count": null,
   "metadata": {},
   "outputs": [],
   "source": [
    "Northern Hemisphere - Regression Line and plot shows wind speeds are slightly higher at Latitudes further away from the equator."
   ]
  },
  {
   "cell_type": "markdown",
   "metadata": {},
   "source": [
    "####  Southern Hemisphere - Wind Speed (mph) vs. Latitude Linear Regression"
   ]
  },
  {
   "cell_type": "code",
   "execution_count": 48,
   "metadata": {},
   "outputs": [
    {
     "name": "stdout",
     "output_type": "stream",
     "text": [
      "y = -0.02x +3.29\n",
      "The r-squared is: 0.01099672400172806\n"
     ]
    },
    {
     "data": {
      "image/png": "[encoded data removed]",
      "text/plain": [
       "<Figure size 432x288 with 1 Axes>"
      ]
     },
     "metadata": {
      "needs_background": "light"
     },
     "output_type": "display_data"
    }
   ],
   "source": [
    "# Generate a scatter plot of year temperature vs Latitude\n",
    "\n",
    "x_values = southern_df['Latitude']\n",
    "y_values = southern_df['Wind Speed']\n",
    "\n",
    "# Perform a linear regression on temperature vs. latitude\n",
    "(slope, intercept, rvalue, pvalue, stderr) = stats.linregress(x_values, y_values)\n",
    "\n",
    "# Get regression values\n",
    "regress_values = x_values * slope + intercept\n",
    "#print(regress_values)\n",
    "\n",
    "# Create line equation string\n",
    "line_eq = \"y = \" + str(round(slope,2)) + \"x +\" + str(round(intercept,2))\n",
    "print(line_eq)\n",
    "\n",
    "# Create Plot\n",
    "plt.scatter(x_values,y_values)\n",
    "plt.plot(x_values,regress_values,\"r-\")\n",
    "\n",
    "# Label plot and annotate the line equation\n",
    "plt.xlabel('Latitude')\n",
    "plt.ylabel('Wind Speed')\n",
    "plt.annotate(line_eq,(20,15),fontsize=15,color=\"red\")\n",
    "\n",
    "# Print r square value\n",
    "print(f\"The r-squared is: {rvalue**2}\")\n",
    "\n",
    "# Save Figure\n",
    "plt.savefig(\"./Data/Southern_Hemisphere_Latitude_vs_Wind_Speed.png\")\n",
    "\n",
    "# Show plot\n",
    "plt.show()\n",
    "\n"
   ]
  },
  {
   "cell_type": "code",
   "execution_count": null,
   "metadata": {},
   "outputs": [],
   "source": [
    "Southern Hemisphere - Regression Line and plot shows wind speeds are slightly higher at Latitudes further away from the equator."
   ]
  }
 ],
 "metadata": {
  "anaconda-cloud": {},
  "kernel_info": {
   "name": "python3"
  },
  "kernelspec": {
   "display_name": "Python 3",
   "language": "python",
   "name": "python3"
  },
  "language_info": {
   "codemirror_mode": {
    "name": "ipython",
    "version": 3
   },
   "file_extension": ".py",
   "mimetype": "text/x-python",
   "name": "python",
   "nbconvert_exporter": "python",
   "pygments_lexer": "ipython3",
   "version": "3.8.3"
  },
  "latex_envs": {
   "LaTeX_envs_menu_present": true,
   "autoclose": false,
   "autocomplete": true,
   "bibliofile": "biblio.bib",
   "cite_by": "apalike",
   "current_citInitial": 1,
   "eqLabelWithNumbers": true,
   "eqNumInitial": 1,
   "hotkeys": {
    "equation": "Ctrl-E",
    "itemize": "Ctrl-I"
   },
   "labels_anchors": false,
   "latex_user_defs": false,
   "report_style_numbering": false,
   "user_envs_cfg": false
  },
  "nteract": {
   "version": "0.12.3"
  }
 },
 "nbformat": 4,
 "nbformat_minor": 2
}
